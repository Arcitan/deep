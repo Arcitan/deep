{
 "cells": [
  {
   "cell_type": "markdown",
   "metadata": {},
   "source": [
    "# Brief Python Introduction [![Binder](https://mybinder.org/badge_logo.svg)](https://mybinder.org/v2/gh/ricedatasci/deep/master?filepath=docs%2Fcurriculum%2Fpython%2Fbasics.ipynb)"
   ]
  },
  {
   "cell_type": "markdown",
   "metadata": {},
   "source": [
    "## types"
   ]
  },
  {
   "cell_type": "code",
   "execution_count": 46,
   "metadata": {},
   "outputs": [
    {
     "name": "stdout",
     "output_type": "stream",
     "text": [
      "3 9 12 1.5 1\n"
     ]
    }
   ],
   "source": [
    "# ints\n",
    "\n",
    "a = 3\n",
    "b = a * a\n",
    "c = a + 3 * a\n",
    "d = 3 / 2 # python3 defaults to floating point division\n",
    "e = 3 // 2 # integer division\n",
    "\n",
    "print(a, b, c, d, e)"
   ]
  },
  {
   "cell_type": "code",
   "execution_count": 49,
   "metadata": {},
   "outputs": [
    {
     "name": "stdout",
     "output_type": "stream",
     "text": [
      "3.37 11.356900000000001 13.48 0.29673590504451036\n"
     ]
    }
   ],
   "source": [
    "# floats\n",
    "\n",
    "a = 3.37\n",
    "b = a * a\n",
    "c = a + 3 * a\n",
    "d = a / a**2 # raise base to a power\n",
    "\n",
    "print(a, b, c, d)"
   ]
  },
  {
   "cell_type": "code",
   "execution_count": 63,
   "metadata": {},
   "outputs": [
    {
     "name": "stdout",
     "output_type": "stream",
     "text": [
      "a [1, 2, 3, 4, 5, 6]\n",
      "b 1\n",
      "c [1, 2]\n",
      "d 6\n",
      "e [1, 3, 5]\n",
      "a [1, 2, 3, 4, 5, 6, 7]\n"
     ]
    }
   ],
   "source": [
    "# lists\n",
    "\n",
    "a = [1, 2, 3, 4, 5, 6]\n",
    "a = list(range(1, 7)) # inclusive exclusive\n",
    "print(\"a\", a)\n",
    "b = a[0]\n",
    "print(\"b\", b)\n",
    "c = a[0:2] # inclusive:exclusive\n",
    "print(\"c\", c)\n",
    "d = a[-1] # negative indexing from the back\n",
    "print(\"d\", d)\n",
    "e = a[::2] # whole list, every second item\n",
    "print(\"e\", e)\n",
    "a.append(7)\n",
    "print(\"a\", a)"
   ]
  },
  {
   "cell_type": "code",
   "execution_count": 61,
   "metadata": {},
   "outputs": [
    {
     "name": "stdout",
     "output_type": "stream",
     "text": [
      "a hello, world!\n",
      "b h\n",
      "c hello\n",
      "d !\n",
      "e hlo ol!\n",
      "f hello, world\n",
      "g hello, world!\n"
     ]
    }
   ],
   "source": [
    "# strings\n",
    "\n",
    "a = \"hello, world!\"\n",
    "print(\"a\", a)\n",
    "b = a[0]\n",
    "print(\"b\", b)\n",
    "c = a[0:5] # inclusive:exclusive\n",
    "print(\"c\", c)\n",
    "d = a[-1] # negative indexing from the back\n",
    "print(\"d\", d)\n",
    "e = a[::2] # whole list, every second item\n",
    "print(\"e\", e)\n",
    "\n",
    "f = a.strip(\"!,\") # remove trailing chars\n",
    "print(\"f\", f)\n",
    "\n",
    "# join lists and concatenate a bang\n",
    "g = \", \".join([\"hello\", \"world\"]) + \"!\"\n",
    "print(\"g\", g)"
   ]
  },
  {
   "cell_type": "code",
   "execution_count": 65,
   "metadata": {},
   "outputs": [
    {
     "name": "stdout",
     "output_type": "stream",
     "text": [
      "a {0, 1, 2}\n",
      "a {0, 1, 2, 3}\n",
      "a {0, 1, 2, 3}\n"
     ]
    }
   ],
   "source": [
    "# sets\n",
    "\n",
    "a = {0, 1, 2}\n",
    "print(\"a\", a)\n",
    "a.add(3)\n",
    "print(\"a\", a)\n",
    "a.add(0)\n",
    "print(\"a\", a)"
   ]
  },
  {
   "cell_type": "code",
   "execution_count": 1,
   "metadata": {},
   "outputs": [
    {
     "name": "stdout",
     "output_type": "stream",
     "text": [
      "a {0, 1, 2}\n",
      "a {0, 1, 2, 3}\n",
      "a {0, 1, 2, 3}\n"
     ]
    }
   ],
   "source": [
    "# dictionaries\n",
    "\n",
    "a = {0, 1, 2}\n",
    "print(\"a\", a)\n",
    "a.add(3)\n",
    "print(\"a\", a)\n",
    "a.add(0)\n",
    "print(\"a\", a)"
   ]
  },
  {
   "cell_type": "markdown",
   "metadata": {},
   "source": [
    "## functions\n",
    "\n",
    "* `def`\n",
    "* `def(arg, kwarg=\"foo\")`"
   ]
  },
  {
   "cell_type": "code",
   "execution_count": 7,
   "metadata": {},
   "outputs": [
    {
     "name": "stdout",
     "output_type": "stream",
     "text": [
      "hello, world\n"
     ]
    }
   ],
   "source": [
    "def log(msg):\n",
    "    print(msg)\n",
    "log(\"hello, world\")"
   ]
  },
  {
   "cell_type": "code",
   "execution_count": 8,
   "metadata": {},
   "outputs": [
    {
     "name": "stdout",
     "output_type": "stream",
     "text": [
      "INFO: hello, world\n",
      "ERROR: climate bad\n"
     ]
    }
   ],
   "source": [
    "def log(msg, level=\"info\"):\n",
    "    print(f\"{level.upper()}: {msg}\")\n",
    "    \n",
    "log(\"hello, world\")\n",
    "log(\"climate bad\", level=\"error\")"
   ]
  },
  {
   "cell_type": "markdown",
   "metadata": {},
   "source": [
    "## objects\n",
    "\n",
    "\n",
    "Everything in python is actually an object, all of the above are simply built in:"
   ]
  },
  {
   "cell_type": "code",
   "execution_count": 19,
   "metadata": {},
   "outputs": [
    {
     "data": {
      "text/plain": [
       "int"
      ]
     },
     "execution_count": 19,
     "metadata": {},
     "output_type": "execute_result"
    }
   ],
   "source": [
    "type(5)"
   ]
  },
  {
   "cell_type": "code",
   "execution_count": 9,
   "metadata": {},
   "outputs": [
    {
     "data": {
      "text/plain": [
       "float"
      ]
     },
     "execution_count": 9,
     "metadata": {},
     "output_type": "execute_result"
    }
   ],
   "source": [
    "type(5.2)"
   ]
  },
  {
   "cell_type": "code",
   "execution_count": 10,
   "metadata": {},
   "outputs": [
    {
     "data": {
      "text/plain": [
       "list"
      ]
     },
     "execution_count": 10,
     "metadata": {},
     "output_type": "execute_result"
    }
   ],
   "source": [
    "type([1, 2])"
   ]
  },
  {
   "cell_type": "code",
   "execution_count": 11,
   "metadata": {},
   "outputs": [
    {
     "data": {
      "text/plain": [
       "set"
      ]
     },
     "execution_count": 11,
     "metadata": {},
     "output_type": "execute_result"
    }
   ],
   "source": [
    "type({1, 2})"
   ]
  },
  {
   "cell_type": "code",
   "execution_count": 14,
   "metadata": {},
   "outputs": [
    {
     "data": {
      "text/plain": [
       "dict"
      ]
     },
     "execution_count": 14,
     "metadata": {},
     "output_type": "execute_result"
    }
   ],
   "source": [
    "type({\"a\": 1, \"b\": 2})"
   ]
  },
  {
   "cell_type": "markdown",
   "metadata": {},
   "source": [
    "Python objects have special methods whose names are surrounded by double underscores.  The `__str__` method returns a string representation of an object:"
   ]
  },
  {
   "cell_type": "code",
   "execution_count": 16,
   "metadata": {},
   "outputs": [
    {
     "data": {
      "text/plain": [
       "'range(0, 5)'"
      ]
     },
     "execution_count": 16,
     "metadata": {},
     "output_type": "execute_result"
    }
   ],
   "source": [
    "str(range(5))"
   ]
  },
  {
   "cell_type": "code",
   "execution_count": 17,
   "metadata": {},
   "outputs": [
    {
     "data": {
      "text/plain": [
       "str"
      ]
     },
     "execution_count": 17,
     "metadata": {},
     "output_type": "execute_result"
    }
   ],
   "source": [
    "type(range(5).__str__())"
   ]
  },
  {
   "cell_type": "code",
   "execution_count": 26,
   "metadata": {},
   "outputs": [],
   "source": [
    "class Apple(object):\n",
    "    \n",
    "    def __init__(self, color=\"red\"):\n",
    "        self._color = color\n",
    "    \n",
    "    def __str__(self):\n",
    "        return f\"{self._color} apple\""
   ]
  },
  {
   "cell_type": "code",
   "execution_count": 30,
   "metadata": {},
   "outputs": [
    {
     "name": "stdout",
     "output_type": "stream",
     "text": [
      "green apple\n"
     ]
    }
   ],
   "source": [
    "print(Apple(\"green\"))"
   ]
  },
  {
   "cell_type": "markdown",
   "metadata": {},
   "source": [
    "For debugging, there's a `__repr__` method:\n"
   ]
  },
  {
   "cell_type": "code",
   "execution_count": 37,
   "metadata": {},
   "outputs": [],
   "source": [
    "class Apple(object):\n",
    "    \n",
    "    def __init__(self, color=\"red\", variety=\"red delicious\"):\n",
    "        self._color = color\n",
    "        self._variety = variety\n",
    "        \n",
    "    def __str__(self):\n",
    "        return f\"{self._variety} apple\"\n",
    "    \n",
    "    def __repr__(self):\n",
    "        return f\"Apple[Color='{self._color}', Variety='{self._variety}']\""
   ]
  },
  {
   "cell_type": "code",
   "execution_count": 38,
   "metadata": {},
   "outputs": [
    {
     "data": {
      "text/plain": [
       "Apple[Color='red', Variety='red delicious']"
      ]
     },
     "execution_count": 38,
     "metadata": {},
     "output_type": "execute_result"
    }
   ],
   "source": [
    "Apple()"
   ]
  },
  {
   "cell_type": "code",
   "execution_count": 39,
   "metadata": {},
   "outputs": [
    {
     "name": "stdout",
     "output_type": "stream",
     "text": [
      "red delicious apple\n"
     ]
    }
   ],
   "source": [
    "print(Apple())"
   ]
  }
 ],
 "metadata": {
  "kernelspec": {
   "display_name": "Python 3",
   "language": "python",
   "name": "python3"
  },
  "language_info": {
   "codemirror_mode": {
    "name": "ipython",
    "version": 3
   },
   "file_extension": ".py",
   "mimetype": "text/x-python",
   "name": "python",
   "nbconvert_exporter": "python",
   "pygments_lexer": "ipython3",
   "version": "3.6.8"
  }
 },
 "nbformat": 4,
 "nbformat_minor": 4
}
